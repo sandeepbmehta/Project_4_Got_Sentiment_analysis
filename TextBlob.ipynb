{
 "cells": [
  {
   "cell_type": "code",
   "execution_count": 1,
   "metadata": {},
   "outputs": [],
   "source": [
    "from tweepy.streaming import StreamListener\n",
    "from tweepy import OAuthHandler\n",
    "from textblob import TextBlob\n",
    "from tweepy import Stream\n",
    "from bs4 import BeautifulSoup\n",
    "import requests\n",
    "import pprint\n",
    "import json\n",
    "import pandas as pd\n",
    "import pymongo\n",
    "from sqlalchemy import func"
   ]
  },
  {
   "cell_type": "code",
   "execution_count": 2,
   "metadata": {},
   "outputs": [],
   "source": [
    "conn = 'mongodb://localhost:27017'\n",
    "client = pymongo.MongoClient(conn)\n",
    "# Define the 'classDB' database in Mongo\n",
    "db = client.projDB\n",
    "tweet = db.tweet.find()"
   ]
  },
  {
   "cell_type": "code",
   "execution_count": 7,
   "metadata": {},
   "outputs": [],
   "source": [
    "# df = pd.DataFrame(columns=[\"id\", \"text\", \"language\",\"created\", \"entities\", \"place\", \"source\", \"sentiment\"])\n",
    "df = pd.DataFrame(columns=[\"id\", \"text\", \"language\",\"created\", \"place\", \"source\", \"sentiment\"])\n",
    "df1 = df"
   ]
  },
  {
   "cell_type": "code",
   "execution_count": 14,
   "metadata": {},
   "outputs": [
    {
     "name": "stdout",
     "output_type": "stream",
     "text": [
      "{'_id': ObjectId('5cd3a549453758423401b6ba'), 'id': 1126335451961282560, 'text': 'RT @odairannies: \"why is it always the innocents who suffer most when you high lords play your game of thrones?\" https://t.co/Vyucf8u7he', 'language': 'en', 'created': 'Thu May 09 03:57:52 +0000 2019', 'entities': {'hashtags': [], 'urls': [], 'user_mentions': [{'screen_name': 'odairannies', 'name': 'ellie', 'id': 892544486206734336, 'id_str': '892544486206734336', 'indices': [3, 15]}], 'symbols': [], 'media': [{'id': 1126249056643186688, 'id_str': '1126249056643186688', 'indices': [113, 136], 'media_url': 'http://pbs.twimg.com/media/D6E9jMXWAAAlCYy.jpg', 'media_url_https': 'https://pbs.twimg.com/media/D6E9jMXWAAAlCYy.jpg', 'url': 'https://t.co/Vyucf8u7he', 'display_url': 'pic.twitter.com/Vyucf8u7he', 'expanded_url': 'https://twitter.com/odairannies/status/1126252747131641858/photo/1', 'type': 'photo', 'sizes': {'thumb': {'w': 150, 'h': 150, 'resize': 'crop'}, 'small': {'w': 650, 'h': 500, 'resize': 'fit'}, 'large': {'w': 650, 'h': 500, 'resize': 'fit'}, 'medium': {'w': 650, 'h': 500, 'resize': 'fit'}}, 'source_status_id': 1126252747131641858, 'source_status_id_str': '1126252747131641858', 'source_user_id': 892544486206734336, 'source_user_id_str': '892544486206734336'}]}, 'place': None, 'source': '<a href=\"http://twitter.com/download/android\" rel=\"nofollow\">Twitter for Android</a>'}\n",
      "\n",
      "1126335451961282560\n",
      "RT @odairannies: \"why is it always the innocents who suffer most when you high lords play your game of thrones?\" https://t.co/Vyucf8u7he\n",
      "Sentiment(polarity=0.08666666666666667, subjectivity=0.48)\n",
      "pos\n",
      "\n",
      "{'_id': ObjectId('5cd3a54d453758423401b6bb'), 'id': 1126335467992047617, 'text': 'RT @starkrings: i really hope this character dies in game of thrones season 8, he’s just so problematic https://t.co/cHiqINd75X', 'language': 'en', 'created': 'Thu May 09 03:57:56 +0000 2019', 'entities': {'hashtags': [], 'urls': [], 'user_mentions': [{'screen_name': 'starkrings', 'name': 'ben', 'id': 852269017377255429, 'id_str': '852269017377255429', 'indices': [3, 14]}], 'symbols': [], 'media': [{'id': 1126021547028881408, 'id_str': '1126021547028881408', 'indices': [104, 127], 'media_url': 'http://pbs.twimg.com/media/D6BuoZAXoAAB4_j.jpg', 'media_url_https': 'https://pbs.twimg.com/media/D6BuoZAXoAAB4_j.jpg', 'url': 'https://t.co/cHiqINd75X', 'display_url': 'pic.twitter.com/cHiqINd75X', 'expanded_url': 'https://twitter.com/starkrings/status/1126021579673092096/photo/1', 'type': 'photo', 'sizes': {'thumb': {'w': 150, 'h': 150, 'resize': 'crop'}, 'small': {'w': 480, 'h': 478, 'resize': 'fit'}, 'large': {'w': 480, 'h': 478, 'resize': 'fit'}, 'medium': {'w': 480, 'h': 478, 'resize': 'fit'}}, 'source_status_id': 1126021579673092096, 'source_status_id_str': '1126021579673092096', 'source_user_id': 852269017377255429, 'source_user_id_str': '852269017377255429'}]}, 'place': None, 'source': '<a href=\"http://twitter.com/download/android\" rel=\"nofollow\">Twitter for Android</a>'}\n",
      "\n",
      "1126335467992047617\n",
      "RT @starkrings: i really hope this character dies in game of thrones season 8, he’s just so problematic https://t.co/cHiqINd75X\n",
      "Sentiment(polarity=-0.1, subjectivity=0.30000000000000004)\n",
      "neg\n",
      "\n",
      "{'_id': ObjectId('5cd3a54f453758423401b6bc'), 'id': 1126335474916909056, 'text': 'RT @XplodingUnicorn: Which is the better show, \"Game of Thrones\" or \"Breaking Bad?\"\\n\\nWatch the debate here: https://t.co/vgQavhbUGA\\n\\nThrow…', 'language': 'en', 'created': 'Thu May 09 03:57:58 +0000 2019', 'entities': {'hashtags': [], 'urls': [{'url': 'https://t.co/vgQavhbUGA', 'expanded_url': 'https://youtu.be/38tz6KOPd_M', 'display_url': 'youtu.be/38tz6KOPd_M', 'indices': [108, 131]}], 'user_mentions': [{'screen_name': 'XplodingUnicorn', 'name': 'James Breakwell, Exploding Unicorn', 'id': 780104972, 'id_str': '780104972', 'indices': [3, 19]}], 'symbols': []}, 'place': None, 'source': '<a href=\"http://twitter.com/download/android\" rel=\"nofollow\">Twitter for Android</a>'}\n",
      "\n",
      "1126335474916909056\n",
      "RT @XplodingUnicorn: Which is the better show, \"Game of Thrones\" or \"Breaking Bad?\"\n",
      "\n",
      "Watch the debate here: https://t.co/vgQavhbUGA\n",
      "\n",
      "Throw…\n",
      "Sentiment(polarity=-0.19999999999999996, subjectivity=0.5222222222222223)\n",
      "neg\n",
      "\n"
     ]
    }
   ],
   "source": [
    "count = 0\n",
    "for each_tweet in tweet:\n",
    "    print(each_tweet)\n",
    "    print(\"\")\n",
    "    print (each_tweet[\"id\"])\n",
    "    print(each_tweet[\"text\"])\n",
    "    analysis = TextBlob(each_tweet[\"text\"])\n",
    "    print(analysis.sentiment)\n",
    "    senti = \"\"\n",
    "    if analysis.sentiment[0]>0:\n",
    "       print(\"pos\")\n",
    "       senti = \"Pos\"\n",
    "    elif analysis.sentiment[0]<0:\n",
    "       print(\"neg\")\n",
    "       senti = \"Neg\"\n",
    "    else:\n",
    "       print(\"neu\")\n",
    "       senti = \"Neu\"\n",
    "    \n",
    "    print(\"\")\n",
    "#     df = pd.DataFrame({\"id\": each_tweet[\"id\"], \"text\": each_tweet[\"text\"], \"language\": each_tweet[\"language\"],\"created\": each_tweet[\"created\"], \"entities\": each_tweet[\"entities\"], \"place\": each_tweet[\"place\"], \"source\": each_tweet[\"source\"], \"sentiment\": senti})\n",
    "    df1 = pd.DataFrame({\"id\": each_tweet[\"id\"], \"text\": each_tweet[\"text\"], \"language\": each_tweet[\"language\"], \"created\": each_tweet[\"created\"], \"place\": each_tweet[\"place\"], \"source\": each_tweet[\"source\"], \"sentiment\": [senti]})\n",
    "    df = df.append(df1, ignore_index=True)\n",
    "    count += 1\n",
    "    if count > 2:\n",
    "        break"
   ]
  },
  {
   "cell_type": "code",
   "execution_count": 15,
   "metadata": {},
   "outputs": [
    {
     "data": {
      "text/plain": [
       "0    RT @odairannies: \"why is it always the innocen...\n",
       "1    RT @starkrings: i really hope this character d...\n",
       "2    RT @XplodingUnicorn: Which is the better show,...\n",
       "Name: text, dtype: object"
      ]
     },
     "execution_count": 15,
     "metadata": {},
     "output_type": "execute_result"
    }
   ],
   "source": [
    "df1[\"text\"]"
   ]
  },
  {
   "cell_type": "code",
   "execution_count": 16,
   "metadata": {},
   "outputs": [
    {
     "data": {
      "text/html": [
       "<div>\n",
       "<style scoped>\n",
       "    .dataframe tbody tr th:only-of-type {\n",
       "        vertical-align: middle;\n",
       "    }\n",
       "\n",
       "    .dataframe tbody tr th {\n",
       "        vertical-align: top;\n",
       "    }\n",
       "\n",
       "    .dataframe thead th {\n",
       "        text-align: right;\n",
       "    }\n",
       "</style>\n",
       "<table border=\"1\" class=\"dataframe\">\n",
       "  <thead>\n",
       "    <tr style=\"text-align: right;\">\n",
       "      <th></th>\n",
       "      <th>id</th>\n",
       "      <th>text</th>\n",
       "      <th>language</th>\n",
       "      <th>created</th>\n",
       "      <th>place</th>\n",
       "      <th>source</th>\n",
       "      <th>sentiment</th>\n",
       "    </tr>\n",
       "  </thead>\n",
       "  <tbody>\n",
       "    <tr>\n",
       "      <th>0</th>\n",
       "      <td>1126335451961282560</td>\n",
       "      <td>RT @odairannies: \"why is it always the innocen...</td>\n",
       "      <td>en</td>\n",
       "      <td>Thu May 09 03:57:52 +0000 2019</td>\n",
       "      <td>None</td>\n",
       "      <td>&lt;a href=\"http://twitter.com/download/android\" ...</td>\n",
       "      <td>Pos</td>\n",
       "    </tr>\n",
       "    <tr>\n",
       "      <th>1</th>\n",
       "      <td>1126335467992047617</td>\n",
       "      <td>RT @starkrings: i really hope this character d...</td>\n",
       "      <td>en</td>\n",
       "      <td>Thu May 09 03:57:56 +0000 2019</td>\n",
       "      <td>None</td>\n",
       "      <td>&lt;a href=\"http://twitter.com/download/android\" ...</td>\n",
       "      <td>Neg</td>\n",
       "    </tr>\n",
       "    <tr>\n",
       "      <th>2</th>\n",
       "      <td>1126335474916909056</td>\n",
       "      <td>RT @XplodingUnicorn: Which is the better show,...</td>\n",
       "      <td>en</td>\n",
       "      <td>Thu May 09 03:57:58 +0000 2019</td>\n",
       "      <td>None</td>\n",
       "      <td>&lt;a href=\"http://twitter.com/download/android\" ...</td>\n",
       "      <td>Neg</td>\n",
       "    </tr>\n",
       "  </tbody>\n",
       "</table>\n",
       "</div>"
      ],
      "text/plain": [
       "                    id                                               text  \\\n",
       "0  1126335451961282560  RT @odairannies: \"why is it always the innocen...   \n",
       "1  1126335467992047617  RT @starkrings: i really hope this character d...   \n",
       "2  1126335474916909056  RT @XplodingUnicorn: Which is the better show,...   \n",
       "\n",
       "  language                         created place  \\\n",
       "0       en  Thu May 09 03:57:52 +0000 2019  None   \n",
       "1       en  Thu May 09 03:57:56 +0000 2019  None   \n",
       "2       en  Thu May 09 03:57:58 +0000 2019  None   \n",
       "\n",
       "                                              source sentiment  \n",
       "0  <a href=\"http://twitter.com/download/android\" ...       Pos  \n",
       "1  <a href=\"http://twitter.com/download/android\" ...       Neg  \n",
       "2  <a href=\"http://twitter.com/download/android\" ...       Neg  "
      ]
     },
     "execution_count": 16,
     "metadata": {},
     "output_type": "execute_result"
    }
   ],
   "source": [
    "df1.head()"
   ]
  }
 ],
 "metadata": {
  "kernelspec": {
   "display_name": "Python 3",
   "language": "python",
   "name": "python3"
  },
  "language_info": {
   "codemirror_mode": {
    "name": "ipython",
    "version": 3
   },
   "file_extension": ".py",
   "mimetype": "text/x-python",
   "name": "python",
   "nbconvert_exporter": "python",
   "pygments_lexer": "ipython3",
   "version": "3.6.6"
  }
 },
 "nbformat": 4,
 "nbformat_minor": 2
}
