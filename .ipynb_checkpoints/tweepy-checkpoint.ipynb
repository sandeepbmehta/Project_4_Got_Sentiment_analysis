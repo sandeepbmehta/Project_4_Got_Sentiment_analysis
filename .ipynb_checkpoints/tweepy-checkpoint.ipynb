{
 "cells": [
  {
   "cell_type": "code",
   "execution_count": 1,
   "metadata": {},
   "outputs": [],
   "source": [
    "from tweepy.streaming import StreamListener\n",
    "from tweepy import OAuthHandler\n",
    "from tweepy import Stream\n",
    "from bs4 import BeautifulSoup\n",
    "import requests\n",
    "import pprint\n",
    "import json\n",
    "import pymongo\n",
    "from sqlalchemy import func"
   ]
  },
  {
   "cell_type": "code",
   "execution_count": 2,
   "metadata": {},
   "outputs": [],
   "source": [
    "conn = 'mongodb://localhost:27017'\n",
    "client = pymongo.MongoClient(conn)\n",
    "# Define the 'classDB' database in Mongo\n",
    "db = client.projDB\n",
    "tweet = db.tweet_hashtags1.find()"
   ]
  },
  {
   "cell_type": "code",
   "execution_count": 3,
   "metadata": {},
   "outputs": [],
   "source": [
    "#Variables that contains the user credentials to access Twitter API\n",
    "access_token = \"114010579-UscavtyluJ4ZOjGBGPwF3Xy8i5ynDgmeiYRLQ9WL\"\n",
    "access_token_secret = \"hnA5I14kCwovdQF1Ciyz3VWOJlPlre8jHEKoeb9OshhJe\"\n",
    "consumer_key = \"j2BhP2Q3LFCzpPQ5o0Xx4GuY7\"\n",
    "consumer_secret = \"vkcmHL1U71cpqdn1LBl7GY4cdJIkvFotKAyZeChIuHBoq5aQ2j\""
   ]
  },
  {
   "cell_type": "code",
   "execution_count": 4,
   "metadata": {},
   "outputs": [],
   "source": [
    "#This is a basic listener that just prints received tweets to stdout.\n",
    "class StdOutListener(StreamListener):\n",
    "\n",
    "   def on_data(self, data):\n",
    "    # Insert a document into the 'tweet' collection\n",
    "        data = json.loads(data)\n",
    "        if data[\"lang\"] == 'en':\n",
    "            db.tweet_hashtags1.insert_one(\n",
    "                {\n",
    "                'id': int(data[\"id\"]),\n",
    "                'text': data[\"text\"],\n",
    "                'language': data[\"lang\"],\n",
    "                'created': data[\"created_at\"],\n",
    "                'entities' : data[\"entities\"],\n",
    "                'place' : data[\"place\"],\n",
    "                'source' : data[\"source\"]\n",
    "                })\n",
    "#         print(data)\n",
    "        return True\n",
    "\n",
    "   def on_error(self, status):\n",
    "       print(status)"
   ]
  },
  {
   "cell_type": "code",
   "execution_count": null,
   "metadata": {},
   "outputs": [],
   "source": [
    "#This handles Twitter authetification and the connection to Twitter Streaming API\n",
    "l = StdOutListener()\n",
    "auth = OAuthHandler(consumer_key, consumer_secret)\n",
    "auth.set_access_token(access_token, access_token_secret)\n",
    "stream = Stream(auth, l)\n",
    "\n",
    "#This line filter Twitter Streams to capture data by the keywords: 'python', 'javascript', 'ruby'\n",
    "# stream.filter(track=['Game of Thrones', 'A Song of Ice and Fire', 'Iron Thrones'])\n",
    "\n",
    "list_of_hashtags = [\"#NotToday\", \n",
    "              \"#TheLongNight.\", \n",
    "              \"#GameofThrones\",  \n",
    "              \"#Dracarys\",  \n",
    "              \"#GOT\", \n",
    "              \"#GOTS8\", \n",
    "              \"#ForTheThrone\", \n",
    "              \"#DaenerysTargaryen\", \n",
    "              \"#JonSnow\", \n",
    "              \"#NightKing\", \n",
    "              \"#CerseiLannister\", \n",
    "              \"#AryaStark\", \n",
    "              \"#JaimeLannister\", \n",
    "              \"#TyrionLannister\", \n",
    "              \"#SansaStark\",\n",
    "              \"#BranStark\", \n",
    "              \"#BrienneOfTarth\", \n",
    "              \"#DavosSeaworth\", \n",
    "              \"#EuronGreyjoy\", \n",
    "              \"#JorahMormont\", \n",
    "              \"#Greyworm\", \n",
    "              \"#Melisandre\", \n",
    "              \"#Missandei\", \n",
    "              \"#SamwellTarly\", \n",
    "              \"#TheonGreyjoy\", \n",
    "              \"#Varys\", \n",
    "              \"#TheHound\"\n",
    "             ]\n",
    "stream.filter(track=list_of_hashtags)"
   ]
  },
  {
   "cell_type": "code",
   "execution_count": null,
   "metadata": {},
   "outputs": [],
   "source": []
  }
 ],
 "metadata": {
  "kernelspec": {
   "display_name": "Python 3",
   "language": "python",
   "name": "python3"
  },
  "language_info": {
   "codemirror_mode": {
    "name": "ipython",
    "version": 3
   },
   "file_extension": ".py",
   "mimetype": "text/x-python",
   "name": "python",
   "nbconvert_exporter": "python",
   "pygments_lexer": "ipython3",
   "version": "3.6.6"
  }
 },
 "nbformat": 4,
 "nbformat_minor": 2
}
