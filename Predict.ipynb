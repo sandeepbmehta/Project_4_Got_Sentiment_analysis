{
 "cells": [
  {
   "cell_type": "code",
   "execution_count": 1,
   "metadata": {},
   "outputs": [
    {
     "name": "stderr",
     "output_type": "stream",
     "text": [
      "C:\\Users\\sande\\Anaconda3\\envs\\pythondata\\lib\\site-packages\\sklearn\\ensemble\\weight_boosting.py:29: DeprecationWarning: numpy.core.umath_tests is an internal NumPy module and should not be imported. It will be removed in a future NumPy release.\n",
      "  from numpy.core.umath_tests import inner1d\n"
     ]
    },
    {
     "name": "stdout",
     "output_type": "stream",
     "text": [
      "[nltk_data] Downloading package stopwords to\n",
      "[nltk_data]     C:\\Users\\sande\\AppData\\Roaming\\nltk_data...\n",
      "[nltk_data]   Package stopwords is already up-to-date!\n"
     ]
    }
   ],
   "source": [
    "from tweepy.streaming import StreamListener\n",
    "from tweepy import OAuthHandler\n",
    "from textblob import TextBlob\n",
    "from tweepy import Stream\n",
    "from bs4 import BeautifulSoup\n",
    "import requests\n",
    "import pprint\n",
    "import json\n",
    "import pandas as pd\n",
    "import pymongo\n",
    "from sqlalchemy import func\n",
    "from nltk.stem import WordNetLemmatizer\n",
    "import numpy as np  \n",
    "import re  \n",
    "import nltk  \n",
    "from sklearn.datasets import load_files  \n",
    "from sklearn.ensemble import RandomForestClassifier\n",
    "from sklearn.model_selection import train_test_split\n",
    "from sklearn.linear_model import LogisticRegression\n",
    "nltk.download('stopwords')\n",
    "import pickle  \n",
    "from nltk.corpus import stopwords\n",
    "from sklearn.feature_extraction.text import TfidfVectorizer\n",
    "from sklearn.model_selection import train_test_split\n",
    "from sklearn.metrics import classification_report, confusion_matrix, accuracy_score"
   ]
  },
  {
   "cell_type": "code",
   "execution_count": 37,
   "metadata": {},
   "outputs": [],
   "source": [
    "file1 = \"data/combined.csv\"\n",
    "df = pd.read_csv(file1)"
   ]
  },
  {
   "cell_type": "code",
   "execution_count": 38,
   "metadata": {},
   "outputs": [],
   "source": [
    "# We have to combine the CVS files and then include a column 'isalive'\n",
    "# For the given date, the corresponding corresponding character will have 0 - Alive or 1 - Dead\n",
    "df[\"isalive\"] = \"0\"\n",
    "for index, row in df.iterrows():\n",
    "    if row[\"char\"] == \"Arya Stark\":\n",
    "        df.loc[index, \"isalive\"] = '0'\n",
    "    if row[\"char\"] == \"Bran Stark\":\n",
    "        df.loc[index, \"isalive\"] = '0'\n",
    "    if row[\"char\"] == \"Brienne of Tarth\":\n",
    "        df.loc[index, \"isalive\"] = '0'\n",
    "    if row[\"char\"] == \"Cersei Lannister\" :\n",
    "        if row[\"date\"] == \"05/12/2019\" \\\n",
    "            or row[\"date\"] == \"05/13/2019\" \\\n",
    "            or row[\"date\"] == \"05/14/2019\" \\\n",
    "            or row[\"date\"] == \"05/15/2019\" \\\n",
    "            or row[\"date\"] == \"05/16/2019\" \\\n",
    "            or row[\"date\"] == \"05/17/2019\":\n",
    "            df.loc[index, \"isalive\"] = '1'\n",
    "        else:\n",
    "            df.loc[index, \"isalive\"] = '0'\n",
    "    if row[\"char\"] == \"Daenerys Targaryen\":\n",
    "        df.loc[index, \"isalive\"] = '0'\n",
    "    if row[\"char\"] == \"Euron Greyjoy\":\n",
    "        if row[\"date\"] == \"05/12/2019\" \\\n",
    "            or row[\"date\"] == \"05/13/2019\" \\\n",
    "            or row[\"date\"] == \"05/14/2019\" \\\n",
    "            or row[\"date\"] == \"05/15/2019\" \\\n",
    "            or row[\"date\"] == \"05/16/2019\" \\\n",
    "            or row[\"date\"] == \"05/17/2019\":\n",
    "            df.loc[index, \"isalive\"] = '1'\n",
    "    if row[\"char\"] == \"Jaime Lannister\":\n",
    "        if row[\"date\"] == \"05/12/2019\" \\\n",
    "            or row[\"date\"] == \"05/13/2019\" \\\n",
    "            or row[\"date\"] == \"05/14/2019\" \\\n",
    "            or row[\"date\"] == \"05/15/2019\" \\\n",
    "            or row[\"date\"] == \"05/16/2019\" \\\n",
    "            or row[\"date\"] == \"05/17/2019\":\n",
    "            df.loc[index, \"isalive\"] = '1'\n",
    "    if row[\"char\"] == \"Jon Snow\":\n",
    "        df.loc[index, \"isalive\"] = '0'\n",
    "    if row[\"char\"] == \"Missandei\":\n",
    "        df.loc[index, \"isalive\"] = '0'\n",
    "    if row[\"char\"] == \"Sandor Clegane (“The Hound”)\":\n",
    "        if row[\"date\"] == \"05/12/2019\" \\\n",
    "            or row[\"date\"] == \"05/13/2019\" \\\n",
    "            or row[\"date\"] == \"05/14/2019\" \\\n",
    "            or row[\"date\"] == \"05/15/2019\" \\\n",
    "            or row[\"date\"] == \"05/16/2019\" \\\n",
    "            or row[\"date\"] == \"05/17/2019\":\n",
    "            df.loc[index, \"isalive\"] = '1'\n",
    "    if row[\"char\"] == \"Sansa Stark\":\n",
    "        df.loc[index, \"isalive\"] = '0'\n",
    "    if row[\"char\"] == \"Theon Greyjoy\":\n",
    "        if row[\"date\"] == \"05/12/2019\" \\\n",
    "            or row[\"date\"] == \"05/13/2019\" \\\n",
    "            or row[\"date\"] == \"05/14/2019\" \\\n",
    "            or row[\"date\"] == \"05/15/2019\" \\\n",
    "            or row[\"date\"] == \"05/16/2019\" \\\n",
    "            or row[\"date\"] == \"05/17/2019\":\n",
    "            df.loc[index, \"isalive\"] = '1'\n",
    "    if row[\"char\"] == \"Tyrion Lannister\":\n",
    "        df.loc[index, \"isalive\"] = '0'"
   ]
  },
  {
   "cell_type": "code",
   "execution_count": 39,
   "metadata": {},
   "outputs": [],
   "source": [
    "df_backup = df"
   ]
  },
  {
   "cell_type": "code",
   "execution_count": 92,
   "metadata": {},
   "outputs": [
    {
     "data": {
      "text/html": [
       "<div>\n",
       "<style scoped>\n",
       "    .dataframe tbody tr th:only-of-type {\n",
       "        vertical-align: middle;\n",
       "    }\n",
       "\n",
       "    .dataframe tbody tr th {\n",
       "        vertical-align: top;\n",
       "    }\n",
       "\n",
       "    .dataframe thead th {\n",
       "        text-align: right;\n",
       "    }\n",
       "</style>\n",
       "<table border=\"1\" class=\"dataframe\">\n",
       "  <thead>\n",
       "    <tr style=\"text-align: right;\">\n",
       "      <th></th>\n",
       "      <th>text</th>\n",
       "      <th>date</th>\n",
       "      <th>char</th>\n",
       "      <th>sentiment</th>\n",
       "      <th>polarity</th>\n",
       "      <th>subjectivity</th>\n",
       "      <th>timestamp</th>\n",
       "      <th>Preprocess</th>\n",
       "      <th>isalive</th>\n",
       "    </tr>\n",
       "  </thead>\n",
       "  <tbody>\n",
       "    <tr>\n",
       "      <th>0</th>\n",
       "      <td>“What do we say to the God of Death?” “Not tod...</td>\n",
       "      <td>05-11-2019</td>\n",
       "      <td>Arya Stark</td>\n",
       "      <td>Neu</td>\n",
       "      <td>0.000000</td>\n",
       "      <td>0.000000</td>\n",
       "      <td>05-11-2019 23:58</td>\n",
       "      <td>what do we say to the god of death not today i...</td>\n",
       "      <td>0</td>\n",
       "    </tr>\n",
       "    <tr>\n",
       "      <th>1</th>\n",
       "      <td>FUNKO POP GAME OF THRONES GOT ARYA STARK NYMER...</td>\n",
       "      <td>05-11-2019</td>\n",
       "      <td>Arya Stark</td>\n",
       "      <td>Neg</td>\n",
       "      <td>-0.116667</td>\n",
       "      <td>0.616667</td>\n",
       "      <td>05-11-2019 23:57</td>\n",
       "      <td>funko pop game of throne got arya stark nymeri...</td>\n",
       "      <td>0</td>\n",
       "    </tr>\n",
       "    <tr>\n",
       "      <th>2</th>\n",
       "      <td>@Annendil Arya Stark taught me how to do it.</td>\n",
       "      <td>05-11-2019</td>\n",
       "      <td>Arya Stark</td>\n",
       "      <td>Neg</td>\n",
       "      <td>-0.200000</td>\n",
       "      <td>0.600000</td>\n",
       "      <td>05-11-2019 23:55</td>\n",
       "      <td>annendil arya stark taught me how to do it</td>\n",
       "      <td>0</td>\n",
       "    </tr>\n",
       "    <tr>\n",
       "      <th>3</th>\n",
       "      <td>Taylor Swift reveals how Reputation album was ...</td>\n",
       "      <td>05-11-2019</td>\n",
       "      <td>Arya Stark</td>\n",
       "      <td>Neg</td>\n",
       "      <td>-0.400000</td>\n",
       "      <td>0.400000</td>\n",
       "      <td>05-11-2019 23:55</td>\n",
       "      <td>taylor swift reveals how reputation album wa i...</td>\n",
       "      <td>0</td>\n",
       "    </tr>\n",
       "    <tr>\n",
       "      <th>4</th>\n",
       "      <td>@bheraldo7 @qwexi_pablo Arya Stark #GameofThrones</td>\n",
       "      <td>05-11-2019</td>\n",
       "      <td>Arya Stark</td>\n",
       "      <td>Neg</td>\n",
       "      <td>-0.200000</td>\n",
       "      <td>0.600000</td>\n",
       "      <td>05-11-2019 23:53</td>\n",
       "      <td>bheraldo7 qwexi_pablo arya stark gameofthrones</td>\n",
       "      <td>0</td>\n",
       "    </tr>\n",
       "  </tbody>\n",
       "</table>\n",
       "</div>"
      ],
      "text/plain": [
       "                                                text        date        char  \\\n",
       "0  “What do we say to the God of Death?” “Not tod...  05-11-2019  Arya Stark   \n",
       "1  FUNKO POP GAME OF THRONES GOT ARYA STARK NYMER...  05-11-2019  Arya Stark   \n",
       "2       @Annendil Arya Stark taught me how to do it.  05-11-2019  Arya Stark   \n",
       "3  Taylor Swift reveals how Reputation album was ...  05-11-2019  Arya Stark   \n",
       "4  @bheraldo7 @qwexi_pablo Arya Stark #GameofThrones  05-11-2019  Arya Stark   \n",
       "\n",
       "  sentiment  polarity  subjectivity         timestamp  \\\n",
       "0       Neu  0.000000      0.000000  05-11-2019 23:58   \n",
       "1       Neg -0.116667      0.616667  05-11-2019 23:57   \n",
       "2       Neg -0.200000      0.600000  05-11-2019 23:55   \n",
       "3       Neg -0.400000      0.400000  05-11-2019 23:55   \n",
       "4       Neg -0.200000      0.600000  05-11-2019 23:53   \n",
       "\n",
       "                                          Preprocess isalive  \n",
       "0  what do we say to the god of death not today i...       0  \n",
       "1  funko pop game of throne got arya stark nymeri...       0  \n",
       "2         annendil arya stark taught me how to do it       0  \n",
       "3  taylor swift reveals how reputation album wa i...       0  \n",
       "4     bheraldo7 qwexi_pablo arya stark gameofthrones       0  "
      ]
     },
     "execution_count": 92,
     "metadata": {},
     "output_type": "execute_result"
    }
   ],
   "source": [
    "df = df_backup\n",
    "df.head()"
   ]
  },
  {
   "cell_type": "code",
   "execution_count": 93,
   "metadata": {},
   "outputs": [
    {
     "data": {
      "text/html": [
       "<div>\n",
       "<style scoped>\n",
       "    .dataframe tbody tr th:only-of-type {\n",
       "        vertical-align: middle;\n",
       "    }\n",
       "\n",
       "    .dataframe tbody tr th {\n",
       "        vertical-align: top;\n",
       "    }\n",
       "\n",
       "    .dataframe thead th {\n",
       "        text-align: right;\n",
       "    }\n",
       "</style>\n",
       "<table border=\"1\" class=\"dataframe\">\n",
       "  <thead>\n",
       "    <tr style=\"text-align: right;\">\n",
       "      <th></th>\n",
       "      <th>char</th>\n",
       "      <th>date</th>\n",
       "      <th>isalive</th>\n",
       "      <th>polarity</th>\n",
       "      <th>subjectivity</th>\n",
       "    </tr>\n",
       "  </thead>\n",
       "  <tbody>\n",
       "    <tr>\n",
       "      <th>0</th>\n",
       "      <td>Arya Stark</td>\n",
       "      <td>05-11-2019</td>\n",
       "      <td>0</td>\n",
       "      <td>-0.037314</td>\n",
       "      <td>0.511225</td>\n",
       "    </tr>\n",
       "    <tr>\n",
       "      <th>1</th>\n",
       "      <td>Arya Stark</td>\n",
       "      <td>05-12-2019</td>\n",
       "      <td>0</td>\n",
       "      <td>-0.054244</td>\n",
       "      <td>0.469481</td>\n",
       "    </tr>\n",
       "    <tr>\n",
       "      <th>2</th>\n",
       "      <td>Arya Stark</td>\n",
       "      <td>05/13/2019</td>\n",
       "      <td>0</td>\n",
       "      <td>-0.157228</td>\n",
       "      <td>0.516924</td>\n",
       "    </tr>\n",
       "    <tr>\n",
       "      <th>3</th>\n",
       "      <td>Arya Stark</td>\n",
       "      <td>05/14/2019</td>\n",
       "      <td>0</td>\n",
       "      <td>-0.077106</td>\n",
       "      <td>0.513569</td>\n",
       "    </tr>\n",
       "    <tr>\n",
       "      <th>4</th>\n",
       "      <td>Arya Stark</td>\n",
       "      <td>05/15/2019</td>\n",
       "      <td>0</td>\n",
       "      <td>-0.068706</td>\n",
       "      <td>0.435747</td>\n",
       "    </tr>\n",
       "  </tbody>\n",
       "</table>\n",
       "</div>"
      ],
      "text/plain": [
       "         char        date isalive  polarity  subjectivity\n",
       "0  Arya Stark  05-11-2019       0 -0.037314      0.511225\n",
       "1  Arya Stark  05-12-2019       0 -0.054244      0.469481\n",
       "2  Arya Stark  05/13/2019       0 -0.157228      0.516924\n",
       "3  Arya Stark  05/14/2019       0 -0.077106      0.513569\n",
       "4  Arya Stark  05/15/2019       0 -0.068706      0.435747"
      ]
     },
     "execution_count": 93,
     "metadata": {},
     "output_type": "execute_result"
    }
   ],
   "source": [
    "df2 = df.groupby([\"char\", \"date\", \"isalive\"]).agg({\"polarity\" : \"mean\", \"subjectivity\" : \"mean\"})\n",
    "# df2 = df.groupby([\"char\", \"date\", \"isalive\"])[\"polarity\"].mean()\n",
    "df = df2.reset_index()\n",
    "df.head()"
   ]
  },
  {
   "cell_type": "code",
   "execution_count": 94,
   "metadata": {},
   "outputs": [],
   "source": [
    "df3 = pd.DataFrame()\n",
    "# df[\"polarity\"]"
   ]
  },
  {
   "cell_type": "code",
   "execution_count": 95,
   "metadata": {},
   "outputs": [],
   "source": [
    "df3[\"char\"] = [char for char in df[\"char\"]]\n",
    "df3[\"date\"] = [date for date in df[\"date\"]]\n",
    "df3[\"isalive\"] = [isalive for isalive in df[\"isalive\"]]\n",
    "df3[\"polarity\"] = [polarity for polarity in df[\"polarity\"]]\n",
    "df3[\"subjectivity\"] = [subjectivity for subjectivity in df[\"subjectivity\"]]\n",
    "# df4 = pd.DataFrame({\"char\": df3[\"char\"],\n",
    "#                     \"date\": df3[\"date\"],\n",
    "#                     \"isalive\": df3[\"isalive\"],\n",
    "#                     \"polarity\": df3[\"polarity\"]\n",
    "#                    })"
   ]
  },
  {
   "cell_type": "code",
   "execution_count": 96,
   "metadata": {},
   "outputs": [
    {
     "data": {
      "text/html": [
       "<div>\n",
       "<style scoped>\n",
       "    .dataframe tbody tr th:only-of-type {\n",
       "        vertical-align: middle;\n",
       "    }\n",
       "\n",
       "    .dataframe tbody tr th {\n",
       "        vertical-align: top;\n",
       "    }\n",
       "\n",
       "    .dataframe thead th {\n",
       "        text-align: right;\n",
       "    }\n",
       "</style>\n",
       "<table border=\"1\" class=\"dataframe\">\n",
       "  <thead>\n",
       "    <tr style=\"text-align: right;\">\n",
       "      <th></th>\n",
       "      <th>char</th>\n",
       "      <th>date</th>\n",
       "      <th>isalive</th>\n",
       "      <th>polarity</th>\n",
       "      <th>subjectivity</th>\n",
       "    </tr>\n",
       "  </thead>\n",
       "  <tbody>\n",
       "    <tr>\n",
       "      <th>0</th>\n",
       "      <td>Arya Stark</td>\n",
       "      <td>05-11-2019</td>\n",
       "      <td>0</td>\n",
       "      <td>-0.037314</td>\n",
       "      <td>0.511225</td>\n",
       "    </tr>\n",
       "    <tr>\n",
       "      <th>1</th>\n",
       "      <td>Arya Stark</td>\n",
       "      <td>05-12-2019</td>\n",
       "      <td>0</td>\n",
       "      <td>-0.054244</td>\n",
       "      <td>0.469481</td>\n",
       "    </tr>\n",
       "    <tr>\n",
       "      <th>2</th>\n",
       "      <td>Arya Stark</td>\n",
       "      <td>05/13/2019</td>\n",
       "      <td>0</td>\n",
       "      <td>-0.157228</td>\n",
       "      <td>0.516924</td>\n",
       "    </tr>\n",
       "    <tr>\n",
       "      <th>3</th>\n",
       "      <td>Arya Stark</td>\n",
       "      <td>05/14/2019</td>\n",
       "      <td>0</td>\n",
       "      <td>-0.077106</td>\n",
       "      <td>0.513569</td>\n",
       "    </tr>\n",
       "    <tr>\n",
       "      <th>4</th>\n",
       "      <td>Arya Stark</td>\n",
       "      <td>05/15/2019</td>\n",
       "      <td>0</td>\n",
       "      <td>-0.068706</td>\n",
       "      <td>0.435747</td>\n",
       "    </tr>\n",
       "  </tbody>\n",
       "</table>\n",
       "</div>"
      ],
      "text/plain": [
       "         char        date isalive  polarity  subjectivity\n",
       "0  Arya Stark  05-11-2019       0 -0.037314      0.511225\n",
       "1  Arya Stark  05-12-2019       0 -0.054244      0.469481\n",
       "2  Arya Stark  05/13/2019       0 -0.157228      0.516924\n",
       "3  Arya Stark  05/14/2019       0 -0.077106      0.513569\n",
       "4  Arya Stark  05/15/2019       0 -0.068706      0.435747"
      ]
     },
     "execution_count": 96,
     "metadata": {},
     "output_type": "execute_result"
    }
   ],
   "source": [
    "df = df3\n",
    "df.head()"
   ]
  },
  {
   "cell_type": "code",
   "execution_count": 97,
   "metadata": {},
   "outputs": [
    {
     "data": {
      "text/plain": [
       "7     0\n",
       "8     0\n",
       "14    0\n",
       "15    0\n",
       "21    0\n",
       "22    1\n",
       "28    0\n",
       "29    0\n",
       "35    0\n",
       "36    1\n",
       "41    0\n",
       "42    1\n",
       "48    0\n",
       "49    0\n",
       "55    0\n",
       "61    0\n",
       "62    1\n",
       "68    0\n",
       "69    0\n",
       "75    0\n",
       "76    1\n",
       "82    0\n",
       "83    0\n",
       "Name: isalive, dtype: object"
      ]
     },
     "execution_count": 97,
     "metadata": {},
     "output_type": "execute_result"
    }
   ],
   "source": [
    "# df.head()\n",
    "df1 = df.loc[(df[\"date\"] == \"05/11/2019\") | (df[\"date\"] == \"05/12/2019\")]\n",
    "# y = [y for y in df1[\"isalive\"]]\n",
    "y = df1[\"isalive\"]\n",
    "# y"
   ]
  },
  {
   "cell_type": "code",
   "execution_count": 63,
   "metadata": {},
   "outputs": [],
   "source": [
    "# df2[\"polarity\"] = [i for i in df1[\"polarity\"]]\n",
    "# df2[\"subjectivity\"] = [i for i in df1[\"subjectivity\"]]"
   ]
  },
  {
   "cell_type": "code",
   "execution_count": 84,
   "metadata": {},
   "outputs": [
    {
     "data": {
      "text/plain": [
       "7     0.066691\n",
       "8     0.032667\n",
       "14    0.078799\n",
       "15    0.071109\n",
       "21    0.035133\n",
       "22    0.599365\n",
       "28    0.427090\n",
       "29    0.439957\n",
       "35   -0.026238\n",
       "36   -0.104189\n",
       "41    0.017441\n",
       "42    0.009998\n",
       "48   -0.137149\n",
       "49   -0.028366\n",
       "55    0.000354\n",
       "61    0.076310\n",
       "62    0.113423\n",
       "68   -0.076558\n",
       "69   -0.082730\n",
       "75   -0.007188\n",
       "76   -0.000588\n",
       "82   -0.006562\n",
       "83    0.001464\n",
       "Name: polarity, dtype: float64"
      ]
     },
     "execution_count": 84,
     "metadata": {},
     "output_type": "execute_result"
    }
   ],
   "source": [
    "# df1[\"polarity\"]"
   ]
  },
  {
   "cell_type": "code",
   "execution_count": 99,
   "metadata": {},
   "outputs": [
    {
     "data": {
      "text/plain": [
       "[0.0666909016909017, 0.21711741961741962]"
      ]
     },
     "execution_count": 99,
     "metadata": {},
     "output_type": "execute_result"
    }
   ],
   "source": [
    "X[0]"
   ]
  },
  {
   "cell_type": "code",
   "execution_count": 98,
   "metadata": {},
   "outputs": [],
   "source": [
    "X = []\n",
    "for index, row in df1.iterrows():\n",
    "    x = []\n",
    "    x.append(row[\"polarity\"])\n",
    "    x.append(row[\"subjectivity\"])\n",
    "    X.append(x)"
   ]
  },
  {
   "cell_type": "code",
   "execution_count": 100,
   "metadata": {},
   "outputs": [],
   "source": [
    "X_train, X_test, y_train, y_test = train_test_split(X, y, random_state=1, stratify=y, test_size=0.5)"
   ]
  },
  {
   "cell_type": "code",
   "execution_count": 101,
   "metadata": {},
   "outputs": [
    {
     "data": {
      "text/plain": [
       "LogisticRegression(C=1.0, class_weight=None, dual=False, fit_intercept=True,\n",
       "          intercept_scaling=1, max_iter=100, multi_class='ovr', n_jobs=1,\n",
       "          penalty='l2', random_state=None, solver='liblinear', tol=0.0001,\n",
       "          verbose=0, warm_start=False)"
      ]
     },
     "execution_count": 101,
     "metadata": {},
     "output_type": "execute_result"
    }
   ],
   "source": [
    "classifier = LogisticRegression()\n",
    "classifier"
   ]
  },
  {
   "cell_type": "code",
   "execution_count": 102,
   "metadata": {},
   "outputs": [
    {
     "data": {
      "text/plain": [
       "LogisticRegression(C=1.0, class_weight=None, dual=False, fit_intercept=True,\n",
       "          intercept_scaling=1, max_iter=100, multi_class='ovr', n_jobs=1,\n",
       "          penalty='l2', random_state=None, solver='liblinear', tol=0.0001,\n",
       "          verbose=0, warm_start=False)"
      ]
     },
     "execution_count": 102,
     "metadata": {},
     "output_type": "execute_result"
    }
   ],
   "source": [
    "classifier.fit(X_train, y_train)"
   ]
  },
  {
   "cell_type": "code",
   "execution_count": 103,
   "metadata": {},
   "outputs": [
    {
     "name": "stdout",
     "output_type": "stream",
     "text": [
      "Training Data Score: 0.8181818181818182\n",
      "Testing Data Score: 0.75\n"
     ]
    }
   ],
   "source": [
    "print(f\"Training Data Score: {classifier.score(X_train, y_train)}\")\n",
    "print(f\"Testing Data Score: {classifier.score(X_test, y_test)}\")"
   ]
  },
  {
   "cell_type": "code",
   "execution_count": null,
   "metadata": {},
   "outputs": [],
   "source": [
    "pd.DataFrame({\"Prediction\": predictions, \"Actual\": y_test})"
   ]
  },
  {
   "cell_type": "code",
   "execution_count": null,
   "metadata": {},
   "outputs": [],
   "source": [
    "# df2 = df.loc[(df[\"date\"] != \"05/11/2019\") & (df[\"date\"] != \"05/12/2019\")]\n",
    "df2 = df.loc[df[\"date\"] == \"05/17/2019\"]\n",
    "new_data = []\n",
    "for index, row in df2.iterrows():\n",
    "    x = []\n",
    "    x.append(row[\"polarity\"])\n",
    "    x.append(row[\"subjectivity\"])\n",
    "    new_data.append(x)"
   ]
  },
  {
   "cell_type": "code",
   "execution_count": null,
   "metadata": {},
   "outputs": [],
   "source": [
    "predictions = classifier.predict(new_data)\n",
    "pred_df = pd.DataFrame({\"Prediction\": predictions})"
   ]
  },
  {
   "cell_type": "code",
   "execution_count": null,
   "metadata": {},
   "outputs": [],
   "source": [
    "pred_df[\"Prediction\"].nunique()"
   ]
  },
  {
   "cell_type": "code",
   "execution_count": null,
   "metadata": {},
   "outputs": [],
   "source": []
  },
  {
   "cell_type": "code",
   "execution_count": null,
   "metadata": {},
   "outputs": [],
   "source": []
  },
  {
   "cell_type": "code",
   "execution_count": null,
   "metadata": {},
   "outputs": [],
   "source": []
  },
  {
   "cell_type": "code",
   "execution_count": null,
   "metadata": {},
   "outputs": [],
   "source": [
    "X = df[\"text\"]\n",
    "y = df[\"isalive\"]\n",
    "\n",
    "tfidfconverter = TfidfVectorizer(max_features=1500, min_df=5, max_df=0.7, stop_words=stopwords.words('english'))  \n",
    "X = tfidfconverter.fit_transform([i for i in df[\"isalive\"]])"
   ]
  },
  {
   "cell_type": "code",
   "execution_count": null,
   "metadata": {},
   "outputs": [],
   "source": [
    "X = []\n",
    "y = df[\"isalive\"]\n",
    "\n",
    "tfidfconverter = TfidfVectorizer(max_features=1500, min_df=5, max_df=0.7, stop_words=stopwords.words('english'))  \n",
    "X = tfidfconverter.fit_transform(df[\"polarity\"]).toarray()"
   ]
  },
  {
   "cell_type": "code",
   "execution_count": null,
   "metadata": {},
   "outputs": [],
   "source": [
    "X_train, X_test, y_train, y_test = train_test_split(X, y, test_size=0.2, random_state=0)  "
   ]
  },
  {
   "cell_type": "code",
   "execution_count": null,
   "metadata": {},
   "outputs": [],
   "source": [
    "classifier = RandomForestClassifier(n_estimators=500, random_state=0)  \n",
    "classifier.fit(X_train, y_train)"
   ]
  },
  {
   "cell_type": "code",
   "execution_count": null,
   "metadata": {},
   "outputs": [],
   "source": [
    "y_pred = classifier.predict(X_test)  "
   ]
  },
  {
   "cell_type": "code",
   "execution_count": null,
   "metadata": {},
   "outputs": [],
   "source": [
    "print(confusion_matrix(y_test,y_pred))  \n",
    "print(classification_report(y_test,y_pred))  \n",
    "print(accuracy_score(y_test, y_pred)) "
   ]
  },
  {
   "cell_type": "code",
   "execution_count": null,
   "metadata": {},
   "outputs": [],
   "source": [
    "plt.plot(df1[\"date\"], df1[\"polarity\"]"
   ]
  },
  {
   "cell_type": "code",
   "execution_count": null,
   "metadata": {},
   "outputs": [],
   "source": [
    "conn = 'mongodb://localhost:27017'\n",
    "client = pymongo.MongoClient(conn)\n",
    "# Define the 'classDB' database in Mongo\n",
    "db = client.projDB\n",
    "char_collection = db.char_img.find()"
   ]
  },
  {
   "cell_type": "code",
   "execution_count": null,
   "metadata": {},
   "outputs": [],
   "source": [
    "char_name_img_list = []\n",
    "for char in char_collection:\n",
    "    char_dict = {}\n",
    "    char_dict[\"name\"] = char[\"name\"]\n",
    "    char_dict[\"img_url\"] = char[\"img_url\"]\n",
    "    char_name_img_list.append(char_dict)"
   ]
  },
  {
   "cell_type": "code",
   "execution_count": null,
   "metadata": {},
   "outputs": [],
   "source": [
    "file1 = \"data/khaleesi.csv\"\n",
    "df1 = pd.read_csv(file1)\n",
    "df = df1[[\"char\", \"date\", \"polarity\"]]\n",
    "df[\"char\"] = \"Daenerys Targaryen\"    \n",
    "df2 = df.groupby([\"char\", \"date\"])[\"polarity\"].mean()\n",
    "file_df = df2.reset_index()"
   ]
  },
  {
   "cell_type": "code",
   "execution_count": null,
   "metadata": {},
   "outputs": [],
   "source": [
    "file_df.loc[file_df[\"char\"] == \"Daenerys Targaryen\"]"
   ]
  },
  {
   "cell_type": "code",
   "execution_count": null,
   "metadata": {},
   "outputs": [],
   "source": [
    "for character in char_name_img_list:\n",
    "    print (character[\"name\"])\n",
    "    char_data_df = file_df.loc[file_df[\"char\"] == character[\"name\"]]\n",
    "    print(char_data_df.size)\n",
    "    if char_data_df.size > 0:\n",
    "        character[\"date\"] = [date for date in char_data_df[\"date\"]]\n",
    "        character[\"polarity\"] = [polarity for polarity in char_data_df[\"polarity\"]]\n"
   ]
  },
  {
   "cell_type": "code",
   "execution_count": null,
   "metadata": {},
   "outputs": [],
   "source": [
    "char_name_img_list"
   ]
  }
 ],
 "metadata": {
  "kernelspec": {
   "display_name": "Python 3",
   "language": "python",
   "name": "python3"
  },
  "language_info": {
   "codemirror_mode": {
    "name": "ipython",
    "version": 3
   },
   "file_extension": ".py",
   "mimetype": "text/x-python",
   "name": "python",
   "nbconvert_exporter": "python",
   "pygments_lexer": "ipython3",
   "version": "3.6.6"
  }
 },
 "nbformat": 4,
 "nbformat_minor": 2
}
