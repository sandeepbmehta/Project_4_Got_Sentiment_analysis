{
 "cells": [
  {
   "cell_type": "code",
   "execution_count": 1,
   "metadata": {},
   "outputs": [],
   "source": [
    "import tweepy as tw\n",
    "import pandas as pd\n",
    "import requests\n",
    "import json\n",
    "from textblob import TextBlob\n",
    "import re\n",
    "from tweepy.streaming import StreamListener\n",
    "from tweepy import OAuthHandler\n",
    "from tweepy import Stream\n",
    "from bs4 import BeautifulSoup\n",
    "import requests\n",
    "import pprint\n",
    "import pymongo\n",
    "from sqlalchemy import func\n",
    "from nltk.stem import WordNetLemmatizer\n",
    "\n",
    "# The consumer keys can be found on your application's Details\n",
    "# page located at https://dev.twitter.com/apps (under \"OAuth settings\")\n",
    "access_token = \"1126320149202472963-WFvSDnYa1eL6osrEorVskuxFLAsoZB\"\n",
    "access_token_secret = \"tYUy2yIjqPGtBYPxVUGwNl71rnFqErsMXCM05nAFphvUf\"\n",
    "consumer_key = \"svHJE3Vx9Yo6IIxGRoCtZwkK5\"\n",
    "consumer_secret = \"pmMPOP6ccTWxl675HCprsTyKnyQzWK6Vz9ZupnBSTp2uehVH73\""
   ]
  },
  {
   "cell_type": "code",
   "execution_count": 2,
   "metadata": {},
   "outputs": [],
   "source": [
    "master_list = ([\"#NotToday\", \n",
    "              \"#TheLongNight.\", \n",
    "              \"#GameofThrones\",  \n",
    "              \"#Dracarys\",  \n",
    "              \"#GOT\", \n",
    "              \"#GOTS8\", \n",
    "              \"#ForTheThrone\", \n",
    "              \"#DaenerysTargaryen\", \n",
    "              \"#JonSnow\", \n",
    "              \"#NightKing\", \n",
    "              \"#CerseiLannister\", \n",
    "              \"#AryaStark\", \n",
    "              \"#JaimeLannister\", \n",
    "              \"#TyrionLannister\", \n",
    "              \"#SansaStark\",\n",
    "              \"#BranStark\", \n",
    "              \"#BrienneOfTarth\", \n",
    "              \"#DavosSeaworth\", \n",
    "              \"#EuronGreyjoy\", \n",
    "              \"#JorahMormont\", \n",
    "              \"#Greyworm\", \n",
    "              \"#Melisandre\", \n",
    "              \"#Missandei\", \n",
    "              \"#SamwellTarly\", \n",
    "              \"#TheonGreyjoy\", \n",
    "              \"#Varys\", \n",
    "              \"#TheHound\"\n",
    "\n",
    "             ])"
   ]
  },
  {
   "cell_type": "code",
   "execution_count": 3,
   "metadata": {},
   "outputs": [],
   "source": [
    "# auth = tw.OAuthHandler(consumer_key, consumer_secret)\n",
    "# auth.set_access_token(access_token, access_token_secret)\n",
    "# api = tw.API(auth, wait_on_rate_limit=True)\n",
    "\n",
    "# search_words = '#khaleesi OR #DaenerysTargaryen OR #Dracarys OR \"khaleesi\" OR \"Daenerys Targaryen\" OR \"Dracarys\"'\n",
    "# # search_words = [\"#khaleesi\"]\n",
    "# date_since = \"2019-05-01\"\n",
    "\n",
    "# tweets = tw.Cursor(api.search,\n",
    "#             q=search_words,\n",
    "#             lang=\"en\",\n",
    "#             since=date_since, encode=\"utf-8\").items(1000)"
   ]
  },
  {
   "cell_type": "code",
   "execution_count": 4,
   "metadata": {},
   "outputs": [],
   "source": [
    "auth = tw.OAuthHandler(consumer_key, consumer_secret)\n",
    "auth.set_access_token(access_token, access_token_secret)\n",
    "api = tw.API(auth, wait_on_rate_limit=True)\n",
    "\n",
    "search_words = '#khaleesi OR #DaenerysTargaryen OR #Dracarys OR \"khaleesi\" OR \"Daenerys Targaryen\" OR \"Dracarys\"'\n",
    "char_name = \"Khaleesi\"\n",
    "\n",
    "dates = [[\"2019-05-11\", \"2019-05-12\"], \n",
    "         [\"2019-05-12\", \"2019-05-13\"], \n",
    "         [\"2019-05-13\", \"2019-05-14\"], \n",
    "         [\"2019-05-14\", \"2019-05-15\"],\n",
    "         [\"2019-05-15\", \"2019-05-16\"],\n",
    "         [\"2019-05-16\", \"2019-05-17\"],\n",
    "         [\"2019-05-17\", \"2019-05-18\"]\n",
    "        ]\n",
    "\n",
    "date_since = \"\"\n",
    "date_until = \"\"\n",
    "tweet_text = []\n",
    "tweet_timestamp = []\n",
    "tweet_date = []\n",
    "tweet_char = []\n",
    "tweet_sen = []\n",
    "tweet_pol = []\n",
    "tweet_sub = []\n",
    "\n",
    "for date_list in dates:\n",
    "    date_since = date_list[0]\n",
    "    date_until = date_list[1]\n",
    "    tweets = tw.Cursor(api.search,\n",
    "            q=search_words,\n",
    "            lang=\"en\",\n",
    "            since=date_since, until=date_until, encode=\"utf-8\").items(1000)\n",
    "    \n",
    "    for tweet in tweets:\n",
    "        tweet_date.append(tweet.created_at.strftime('%m/%d/%Y'))\n",
    "        tweet_timestamp.append(tweet.created_at.strftime('%m/%d/%Y %H:%M:%S'))\n",
    "    \n",
    "        analysis = TextBlob(tweet.text)\n",
    "\n",
    "        senti = \"\"\n",
    "        polarity = 0.0\n",
    "        subjectivity = 0.0\n",
    "    \n",
    "        if analysis.sentiment[0]>0:\n",
    "           senti = \"Pos\"\n",
    "        elif analysis.sentiment[0]<0:\n",
    "           senti = \"Neg\"\n",
    "        else:\n",
    "           senti = \"Neu\"\n",
    "    \n",
    "        polarity = float(analysis.sentiment[0])\n",
    "        subjectivity = float(analysis.sentiment[1])\n",
    "\n",
    "        tweet_text.append(tweet.text)\n",
    "        tweet_char.append(char_name)\n",
    "        tweet_pol.append(polarity)\n",
    "        tweet_sen.append(senti)\n",
    "        tweet_sub.append(subjectivity)"
   ]
  },
  {
   "cell_type": "code",
   "execution_count": 5,
   "metadata": {},
   "outputs": [],
   "source": [
    "df = pd.DataFrame({\n",
    "  \"text\": tweet_text,\n",
    "  \"date\" : tweet_date,\n",
    "  \"char\" : tweet_char,\n",
    "  \"sentiment\" : tweet_sen,\n",
    "  \"polarity\" : tweet_pol,\n",
    "  \"subjectivity\" : tweet_sub,\n",
    "  \"timestamp\" : tweet_timestamp\n",
    "})"
   ]
  },
  {
   "cell_type": "code",
   "execution_count": 6,
   "metadata": {},
   "outputs": [],
   "source": [
    "df = df.dropna()"
   ]
  },
  {
   "cell_type": "code",
   "execution_count": 7,
   "metadata": {},
   "outputs": [
    {
     "data": {
      "text/plain": [
       "05/16/2019    1000\n",
       "05/13/2019    1000\n",
       "05/17/2019    1000\n",
       "05/14/2019    1000\n",
       "05/12/2019    1000\n",
       "05/11/2019    1000\n",
       "05/15/2019      65\n",
       "Name: date, dtype: int64"
      ]
     },
     "execution_count": 7,
     "metadata": {},
     "output_type": "execute_result"
    }
   ],
   "source": [
    "df[\"date\"].value_counts()"
   ]
  },
  {
   "cell_type": "code",
   "execution_count": 8,
   "metadata": {},
   "outputs": [],
   "source": [
    "stemmer = WordNetLemmatizer()\n",
    "\n",
    "for index, row in df.iterrows():\n",
    "    # Remove all the special characters\n",
    "    test_preproc = re.sub(r'\\W', ' ', str(row[\"text\"]))\n",
    "\n",
    "    # remove all single characters\n",
    "    test_preproc = re.sub(r'\\s+[a-zA-Z]\\s+', ' ', test_preproc)\n",
    "\n",
    "    # Remove single characters from the start\n",
    "    test_preproc = re.sub(r'\\^[a-zA-Z]\\s+', ' ', test_preproc) \n",
    "\n",
    "    # Substituting multiple spaces with single space\n",
    "    test_preproc = re.sub(r'\\s+', ' ', test_preproc, flags=re.I)\n",
    "\n",
    "    # Removing prefixed 'b'\n",
    "    test_preproc = re.sub(r'^b\\s+', '', test_preproc)\n",
    "\n",
    "    # Converting to Lowercase\n",
    "    test_preproc = test_preproc.lower()\n",
    "    \n",
    "    # Lemmatization\n",
    "    test_preproc = test_preproc.split()\n",
    "\n",
    "    test_preproc = [stemmer.lemmatize(word) for word in test_preproc]\n",
    "    comb_string = ' '.join(test_preproc)\n",
    "    df.loc[index, \"Preprocess\"] = comb_string"
   ]
  },
  {
   "cell_type": "code",
   "execution_count": 9,
   "metadata": {},
   "outputs": [],
   "source": [
    "df.to_csv(\"data/khaleesi_11_18.csv\", index=False)"
   ]
  }
 ],
 "metadata": {
  "kernelspec": {
   "display_name": "Python 3",
   "language": "python",
   "name": "python3"
  },
  "language_info": {
   "codemirror_mode": {
    "name": "ipython",
    "version": 3
   },
   "file_extension": ".py",
   "mimetype": "text/x-python",
   "name": "python",
   "nbconvert_exporter": "python",
   "pygments_lexer": "ipython3",
   "version": "3.6.6"
  }
 },
 "nbformat": 4,
 "nbformat_minor": 2
}
