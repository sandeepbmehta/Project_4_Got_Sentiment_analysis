{
 "cells": [
  {
   "cell_type": "code",
   "execution_count": 1,
   "metadata": {},
   "outputs": [],
   "source": [
    "import pandas as pd"
   ]
  },
  {
   "cell_type": "code",
   "execution_count": 2,
   "metadata": {
    "scrolled": true
   },
   "outputs": [],
   "source": [
    "file1 = \"data/test1.csv\"\n",
    "df1 = pd.read_csv(file1)\n",
    "file2 = \"data/test - copy.csv\"\n",
    "df2 = pd.read_csv(file2, header=None)"
   ]
  },
  {
   "cell_type": "code",
   "execution_count": 3,
   "metadata": {},
   "outputs": [
    {
     "name": "stderr",
     "output_type": "stream",
     "text": [
      "C:\\Users\\sande\\Anaconda3\\envs\\pythondata\\lib\\site-packages\\pandas\\core\\indexes\\api.py:107: RuntimeWarning: '<' not supported between instances of 'str' and 'int', sort order is undefined for incomparable objects\n",
      "  result = result.union(other)\n"
     ]
    }
   ],
   "source": [
    "combined_df = df1\n",
    "combined_df = df1.append(df2)"
   ]
  },
  {
   "cell_type": "code",
   "execution_count": 6,
   "metadata": {},
   "outputs": [
    {
     "data": {
      "text/html": [
       "<div>\n",
       "<style scoped>\n",
       "    .dataframe tbody tr th:only-of-type {\n",
       "        vertical-align: middle;\n",
       "    }\n",
       "\n",
       "    .dataframe tbody tr th {\n",
       "        vertical-align: top;\n",
       "    }\n",
       "\n",
       "    .dataframe thead th {\n",
       "        text-align: right;\n",
       "    }\n",
       "</style>\n",
       "<table border=\"1\" class=\"dataframe\">\n",
       "  <thead>\n",
       "    <tr style=\"text-align: right;\">\n",
       "      <th></th>\n",
       "      <th>0</th>\n",
       "      <th>1</th>\n",
       "      <th>2</th>\n",
       "      <th>3</th>\n",
       "      <th>4</th>\n",
       "      <th>5</th>\n",
       "      <th>6</th>\n",
       "    </tr>\n",
       "  </thead>\n",
       "  <tbody>\n",
       "    <tr>\n",
       "      <th>0</th>\n",
       "      <td>character_lower</td>\n",
       "      <td>character</td>\n",
       "      <td>text</td>\n",
       "      <td>sentiment</td>\n",
       "      <td>polarity</td>\n",
       "      <td>subjectivity</td>\n",
       "      <td>Preprocess</td>\n",
       "    </tr>\n",
       "    <tr>\n",
       "      <th>1</th>\n",
       "      <td>gameofthrones</td>\n",
       "      <td>gameofthrones</td>\n",
       "      <td>RT @kbrxci: Look at their faces...They've warn...</td>\n",
       "      <td>Neu</td>\n",
       "      <td>0.0</td>\n",
       "      <td>0.0</td>\n",
       "      <td>rt kbrxci look at their face they ve warned u ...</td>\n",
       "    </tr>\n",
       "    <tr>\n",
       "      <th>2</th>\n",
       "      <td>gameofthrones</td>\n",
       "      <td>GameofThrones</td>\n",
       "      <td>RT @isthatdejavuu: Sansa in Winterfell watchin...</td>\n",
       "      <td>Neg</td>\n",
       "      <td>-0.2</td>\n",
       "      <td>0.8</td>\n",
       "      <td>rt isthatdejavuu sansa in winterfell watching ...</td>\n",
       "    </tr>\n",
       "    <tr>\n",
       "      <th>3</th>\n",
       "      <td>gameofthrones</td>\n",
       "      <td>GameofThrones</td>\n",
       "      <td>RT @moashrav: Spoilers without context\\r\\n#Gam...</td>\n",
       "      <td>Neu</td>\n",
       "      <td>0.0</td>\n",
       "      <td>0.0</td>\n",
       "      <td>rt moashrav spoiler without context gameofthro...</td>\n",
       "    </tr>\n",
       "    <tr>\n",
       "      <th>4</th>\n",
       "      <td>gameofthrones</td>\n",
       "      <td>GameofThrones</td>\n",
       "      <td>RT @CriticalBard: So... you’re telling me... s...</td>\n",
       "      <td>Neu</td>\n",
       "      <td>0.0</td>\n",
       "      <td>0.0</td>\n",
       "      <td>rt criticalbard so you re telling me she could...</td>\n",
       "    </tr>\n",
       "  </tbody>\n",
       "</table>\n",
       "</div>"
      ],
      "text/plain": [
       "                 0              1  \\\n",
       "0  character_lower      character   \n",
       "1    gameofthrones  gameofthrones   \n",
       "2    gameofthrones  GameofThrones   \n",
       "3    gameofthrones  GameofThrones   \n",
       "4    gameofthrones  GameofThrones   \n",
       "\n",
       "                                                   2          3         4  \\\n",
       "0                                               text  sentiment  polarity   \n",
       "1  RT @kbrxci: Look at their faces...They've warn...        Neu       0.0   \n",
       "2  RT @isthatdejavuu: Sansa in Winterfell watchin...        Neg      -0.2   \n",
       "3  RT @moashrav: Spoilers without context\\r\\n#Gam...        Neu       0.0   \n",
       "4  RT @CriticalBard: So... you’re telling me... s...        Neu       0.0   \n",
       "\n",
       "              5                                                  6  \n",
       "0  subjectivity                                         Preprocess  \n",
       "1           0.0  rt kbrxci look at their face they ve warned u ...  \n",
       "2           0.8  rt isthatdejavuu sansa in winterfell watching ...  \n",
       "3           0.0  rt moashrav spoiler without context gameofthro...  \n",
       "4           0.0  rt criticalbard so you re telling me she could...  "
      ]
     },
     "execution_count": 6,
     "metadata": {},
     "output_type": "execute_result"
    }
   ],
   "source": [
    "df2.head()"
   ]
  },
  {
   "cell_type": "code",
   "execution_count": 4,
   "metadata": {},
   "outputs": [
    {
     "data": {
      "text/plain": [
       "character_lower    101\n",
       "character          101\n",
       "text               101\n",
       "sentiment          101\n",
       "polarity           101\n",
       "subjectivity       101\n",
       "Preprocess         101\n",
       "0                  102\n",
       "1                  102\n",
       "2                  102\n",
       "3                  102\n",
       "4                  102\n",
       "5                  102\n",
       "6                  102\n",
       "dtype: int64"
      ]
     },
     "execution_count": 4,
     "metadata": {},
     "output_type": "execute_result"
    }
   ],
   "source": [
    "combined_df.count()"
   ]
  },
  {
   "cell_type": "code",
   "execution_count": null,
   "metadata": {},
   "outputs": [],
   "source": []
  }
 ],
 "metadata": {
  "kernelspec": {
   "display_name": "Python 3",
   "language": "python",
   "name": "python3"
  },
  "language_info": {
   "codemirror_mode": {
    "name": "ipython",
    "version": 3
   },
   "file_extension": ".py",
   "mimetype": "text/x-python",
   "name": "python",
   "nbconvert_exporter": "python",
   "pygments_lexer": "ipython3",
   "version": "3.6.6"
  }
 },
 "nbformat": 4,
 "nbformat_minor": 2
}
