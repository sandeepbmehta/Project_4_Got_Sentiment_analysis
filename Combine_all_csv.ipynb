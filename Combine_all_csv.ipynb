{
 "cells": [
  {
   "cell_type": "code",
   "execution_count": 10,
   "metadata": {},
   "outputs": [],
   "source": [
    "import pandas as pd"
   ]
  },
  {
   "cell_type": "code",
   "execution_count": 11,
   "metadata": {},
   "outputs": [],
   "source": [
    "file1 = \"data/AryaStark_11_18.csv\"\n",
    "df1 = pd.read_csv(file1)\n",
    "file2 = \"data/BranStark_11_18.csv\"\n",
    "df2 = pd.read_csv(file2)\n",
    "file3 = \"data/BrienneOfTarth_11_18.csv\"\n",
    "df3 = pd.read_csv(file3)\n",
    "file4 = \"data/CerseiLannister_11_18.csv\"\n",
    "df4 = pd.read_csv(file4)\n",
    "file5 = \"data/EuronGreyjoy_11_18.csv\"\n",
    "df5 = pd.read_csv(file5)\n",
    "file6 = \"data/JaimeLannister_11_18.csv\"\n",
    "df6 = pd.read_csv(file6)\n",
    "file7 = \"data/Jonsnow_11_18.csv\"\n",
    "df7 = pd.read_csv(file7)\n",
    "file8 = \"data/khaleesi_11_18.csv\"\n",
    "df8 = pd.read_csv(file8)\n",
    "file9 = \"data/Missandei_11_18.csv\"\n",
    "df9 = pd.read_csv(file9)\n",
    "file10 = \"data/NightKing_11_18.csv\"\n",
    "df10 = pd.read_csv(file10)\n",
    "file11 = \"data/SansaStark_11_18.csv\"\n",
    "df11 = pd.read_csv(file11)\n",
    "file12 = \"data/TheHound_11_18.csv\"\n",
    "df12 = pd.read_csv(file12)\n",
    "file13 = \"data/TheonGreyjoy_11_18.csv\"\n",
    "df13 = pd.read_csv(file13)\n",
    "file14 = \"data/TyrionLannister_11_18.csv\"\n",
    "df14 = pd.read_csv(file14)"
   ]
  },
  {
   "cell_type": "code",
   "execution_count": 12,
   "metadata": {},
   "outputs": [],
   "source": [
    "df1[\"char\"] = \"Arya Stark\"\n",
    "df2[\"char\"] = \"Bran Stark\"\n",
    "df3[\"char\"] = \"Brienne of Tarth\"\n",
    "df4[\"char\"] = \"Cersei Lannister\"\n",
    "df5[\"char\"] = \"Euron Greyjoy\"\n",
    "df6[\"char\"] = \"Jaime Lannister\"\n",
    "df7[\"char\"] = \"Jon Snow\"\n",
    "df8[\"char\"] = \"Daenerys Targaryen\"\n",
    "df9[\"char\"] = \"Missandei\"\n",
    "# df10[\"char\"] = \n",
    "# file10 = \"data/NightKing_11_18.csv\"\n",
    "# df10 = pd.read_csv(file10)\n",
    "df11[\"char\"] = \"Sansa Stark\"\n",
    "df12[\"char\"] = \"Sandor Clegane (“The Hound”)\"\n",
    "df13[\"char\"] = \"Theon Greyjoy\"\n",
    "df14[\"char\"] = \"Tyrion Lannister\""
   ]
  },
  {
   "cell_type": "code",
   "execution_count": 13,
   "metadata": {},
   "outputs": [],
   "source": [
    "combined_df = df1\n",
    "combined_df = combined_df.append(df2)\n",
    "combined_df = combined_df.append(df3)\n",
    "combined_df = combined_df.append(df4)\n",
    "combined_df = combined_df.append(df5)\n",
    "combined_df = combined_df.append(df6)\n",
    "combined_df = combined_df.append(df7)\n",
    "combined_df = combined_df.append(df8)\n",
    "combined_df = combined_df.append(df9)\n",
    "combined_df = combined_df.append(df11)\n",
    "combined_df = combined_df.append(df12)\n",
    "combined_df = combined_df.append(df13)\n",
    "combined_df = combined_df.append(df14)"
   ]
  },
  {
   "cell_type": "code",
   "execution_count": 14,
   "metadata": {},
   "outputs": [],
   "source": [
    "combined_df.to_csv(\"data/combined.csv\", index=False)"
   ]
  },
  {
   "cell_type": "code",
   "execution_count": 16,
   "metadata": {},
   "outputs": [
    {
     "data": {
      "text/plain": [
       "Jon Snow                        7000\n",
       "Jaime Lannister                 7000\n",
       "Arya Stark                      7000\n",
       "Cersei Lannister                6537\n",
       "Sansa Stark                     6417\n",
       "Daenerys Targaryen              6065\n",
       "Tyrion Lannister                5649\n",
       "Brienne of Tarth                3606\n",
       "Sandor Clegane (“The Hound”)    3500\n",
       "Missandei                       3000\n",
       "Theon Greyjoy                   1969\n",
       "Bran Stark                      1947\n",
       "Euron Greyjoy                   1773\n",
       "Name: char, dtype: int64"
      ]
     },
     "execution_count": 16,
     "metadata": {},
     "output_type": "execute_result"
    }
   ],
   "source": [
    "combined_df[\"char\"].value_counts()"
   ]
  }
 ],
 "metadata": {
  "kernelspec": {
   "display_name": "Python 3",
   "language": "python",
   "name": "python3"
  },
  "language_info": {
   "codemirror_mode": {
    "name": "ipython",
    "version": 3
   },
   "file_extension": ".py",
   "mimetype": "text/x-python",
   "name": "python",
   "nbconvert_exporter": "python",
   "pygments_lexer": "ipython3",
   "version": "3.6.6"
  }
 },
 "nbformat": 4,
 "nbformat_minor": 2
}
